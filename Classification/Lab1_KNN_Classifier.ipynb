{
 "cells": [
  {
   "cell_type": "code",
   "execution_count": null,
   "metadata": {},
   "outputs": [],
   "source": [
    "import pandas as pd\n",
    "\n",
    "df=pd.read_csv('..\\\\data\\\\fraud.csv', index_col = 0)\n",
    "\n",
    "# Check your data and define X and y : What is X and what is y? \n",
    "y = df['Class'].values\n",
    "df = df.iloc[:,1:]\n",
    "X = df.drop(columns = 'Class').values\n",
    "df[['Class']].value_counts()"
   ]
  },
  {
   "cell_type": "code",
   "execution_count": null,
   "metadata": {},
   "outputs": [],
   "source": [
    "# perform train - test split. (40% as testing and 60% as training)\n",
    "from sklearn.model_selection import train_test_split\n",
    "\n",
    "#X_train, X_test, y_train, y_test = train_test_split()\n",
    "\n",
    "X_train, X_test, y_train, y_test = train_test_split(X,y, \n",
    "                                    test_size = 0.40, \n",
    "                                    random_state=1)\n",
    "# check the number of rows in the training and testing data"
   ]
  },
  {
   "cell_type": "code",
   "execution_count": null,
   "metadata": {},
   "outputs": [],
   "source": [
    "#--------------------------------------------------\n",
    "## ----------- K-NN Classifier ------------------## \n",
    "#--------------------------------------------------\n",
    "from sklearn.preprocessing import StandardScaler\n",
    "from sklearn.pipeline import Pipeline\n",
    "from sklearn.neighbors import KNeighborsClassifier\n",
    "\n",
    "steps = [('scaler', StandardScaler()),         \n",
    "         ('knn', KNeighborsClassifier(n_neighbors = 5))]\n",
    "\n",
    "knn_pipeline = Pipeline(steps)\n",
    "knn_pipeline.fit(X_train, y_train)"
   ]
  },
  {
   "cell_type": "code",
   "execution_count": null,
   "metadata": {},
   "outputs": [],
   "source": [
    "#--------------------------------------------------\n",
    "## Model Evaluation ## \n",
    "#--------------------------------------------------\n",
    "from sklearn.metrics import classification_report\n",
    "from sklearn.metrics import confusion_matrix\n",
    "from sklearn.metrics import roc_auc_score\n",
    "from sklearn.metrics import roc_curve\n",
    "import matplotlib.pyplot as plt\n",
    "\n",
    "ypred_test = knn_pipeline.predict(X_test)\n",
    "mat_clf = confusion_matrix(y_test, ypred_test)\n",
    "report_clf = classification_report(y_test, ypred_test)\n",
    "\n",
    "print(mat_clf)\n",
    "print(report_clf)\n",
    "\n",
    "ypred_testP = knn_pipeline.predict_proba(X_test)\n",
    "auc = roc_auc_score(y_test, ypred_testP[:,1])\n",
    "print(auc)\n",
    "\n",
    "\n",
    "fpr, tpr, thresholds = roc_curve(y_test, ypred_testP[:,1])\n",
    "plt.plot(fpr, tpr, label='ROC curve (area = %0.2f)' % auc)\n",
    "plt.plot([0, 1], [0, 1], 'k--') \n",
    "plt.xlim([0.0, 1.0])\n",
    "plt.ylim([0.0, 1.05])\n",
    "plt.xlabel('False Positive Rate')\n",
    "plt.ylabel('True Positive Rate')\n",
    "plt.title('Receiver Operating Characteristic (ROC) Curve')\n",
    "plt.legend(loc=\"lower right\")\n",
    "plt.show()\n"
   ]
  },
  {
   "cell_type": "code",
   "execution_count": null,
   "metadata": {},
   "outputs": [],
   "source": [
    "ypred_train = knn_pipeline.predict(X_train)\n",
    "mat_clf = confusion_matrix(y_train, ypred_train)\n",
    "report_clf = classification_report(y_train, ypred_train)\n",
    "\n",
    "print(mat_clf)\n",
    "print(report_clf)\n",
    "\n",
    "ypred_trainP = knn_pipeline.predict_proba(X_train)\n",
    "auc = roc_auc_score(y_train, ypred_trainP[:,1])\n",
    "print(auc)"
   ]
  },
  {
   "cell_type": "code",
   "execution_count": null,
   "metadata": {},
   "outputs": [],
   "source": [
    "import pandas as pd\n",
    "\n",
    "df = pd.DataFrame({'fpr': fpr, 'tpr': tpr, 'th': thresholds})\n",
    "df"
   ]
  }
 ],
 "metadata": {
  "kernelspec": {
   "display_name": ".venv",
   "language": "python",
   "name": "python3"
  },
  "language_info": {
   "codemirror_mode": {
    "name": "ipython",
    "version": 3
   },
   "file_extension": ".py",
   "mimetype": "text/x-python",
   "name": "python",
   "nbconvert_exporter": "python",
   "pygments_lexer": "ipython3",
   "version": "3.12.2"
  },
  "orig_nbformat": 4
 },
 "nbformat": 4,
 "nbformat_minor": 2
}
