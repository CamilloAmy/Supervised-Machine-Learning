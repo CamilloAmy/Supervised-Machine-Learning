{
 "cells": [
  {
   "attachments": {},
   "cell_type": "markdown",
   "metadata": {},
   "source": [
    "Gradient decenet method is a first order optimization algorithm used to find the maximum or minimum of a function. This method is a key foundation and commonly used in machine learning and deep learning techniques. "
   ]
  },
  {
   "cell_type": "code",
   "execution_count": 1,
   "metadata": {},
   "outputs": [],
   "source": [
    "import pandas as pd\n",
    "from sklearn.model_selection import train_test_split\n",
    "\n",
    "df=pd.read_csv('..\\\\data\\Advertising.csv')\n",
    "\n",
    "X=df[['TV', 'radio', 'newspaper']]\n",
    "Y=df['sales'].values\n",
    "X=X.apply(lambda rec:(rec-rec.mean())/rec.std(),axis=0)"
   ]
  },
  {
   "attachments": {},
   "cell_type": "markdown",
   "metadata": {},
   "source": [
    "\n",
    "The first step of 'Gradient descent algorithm\" is to define the starting points. In this tutorial, the starting points are defined randomly. "
   ]
  },
  {
   "cell_type": "code",
   "execution_count": 2,
   "metadata": {},
   "outputs": [],
   "source": [
    "import random\n",
    "import math\n",
    "import numpy as np\n",
    "\n",
    "def initialize(dim):\n",
    "    random.seed(42)\n",
    "    b=random.random()\n",
    "    a=np.random.rand(dim)\n",
    "    return b,a"
   ]
  },
  {
   "attachments": {},
   "cell_type": "markdown",
   "metadata": {},
   "source": [
    "Step 2 predicts the value of y using the parameters and compute the cost. "
   ]
  },
  {
   "cell_type": "code",
   "execution_count": 3,
   "metadata": {},
   "outputs": [],
   "source": [
    "def predict_Y(b,a,X):\n",
    "    return b + np.dot(X,a)\n",
    "\n",
    "def get_cost(Y,Y_hat):\n",
    "    Y_resd=Y-Y_hat\n",
    "    return np.sum(np.dot(Y_resd.T,Y_resd))/len(Y-Y_resd)"
   ]
  },
  {
   "attachments": {},
   "cell_type": "markdown",
   "metadata": {},
   "source": [
    "Step 3 computes the gradient which measures the change in all weights with regard to the change in error and update the parameters. "
   ]
  },
  {
   "cell_type": "code",
   "execution_count": 4,
   "metadata": {},
   "outputs": [],
   "source": [
    "\n",
    "def update_theta(x,y,y_hat,b_0,theta_o,learning_rate):\n",
    "    db=(np.sum(y_hat-y)*2)/len(y)\n",
    "    dw=(np.dot((y_hat-y),x)*2)/len(y)\n",
    "    b_1=b_0-learning_rate*db\n",
    "    theta_1=theta_o-learning_rate*dw\n",
    "    return b_1,theta_1"
   ]
  },
  {
   "attachments": {},
   "cell_type": "markdown",
   "metadata": {},
   "source": [
    "Repeat Step 2 and step 3 till the changes in cost function values become very small or for the number of pre-defined iterations."
   ]
  },
  {
   "cell_type": "code",
   "execution_count": 5,
   "metadata": {},
   "outputs": [],
   "source": [
    "def run_gradient_descent(X,Y,alpha,num_iterations):\n",
    "    tolerance = 1e-06\n",
    "    b,theta=initialize(X.shape[1])\n",
    "    w_list = ['weight_a' + str(d+1)for d in range(0,X.shape[1])]\n",
    "    gd_iterations_df=pd.DataFrame(columns=['iteration','value_b'] +w_list +  ['cost'])\n",
    "    result_idx=0\n",
    "    prev_cost = 0\n",
    "    for iter_num in range(num_iterations):\n",
    "        Y_hat=predict_Y(b,theta,X)\n",
    "        this_cost=get_cost(Y,Y_hat)\n",
    "        prev_b=b\n",
    "        prev_theta=theta\n",
    "        b,theta=update_theta(X,Y,Y_hat,prev_b,prev_theta,alpha)\n",
    "        gd_iterations_df.loc[result_idx]=[iter_num,b] + theta.tolist() +[ this_cost]\n",
    "        result_idx=result_idx+1   \n",
    "        if (np.abs(this_cost - prev_cost)<=tolerance):\n",
    "            break\n",
    "        prev_cost = this_cost\n",
    "       \n",
    "    return gd_iterations_df,b,theta\n",
    "        \n",
    "gd_iterations_df,b,theta=run_gradient_descent(X,Y,alpha=0.01,num_iterations=400)"
   ]
  },
  {
   "attachments": {},
   "cell_type": "markdown",
   "metadata": {},
   "source": [
    "Demonstrate how the cost changes based on the parameters. "
   ]
  },
  {
   "cell_type": "code",
   "execution_count": 6,
   "metadata": {},
   "outputs": [
    {
     "data": {
      "text/plain": [
       "[]"
      ]
     },
     "execution_count": 6,
     "metadata": {},
     "output_type": "execute_result"
    },
    {
     "data": {
      "image/png": "[encoded data removed]",
      "text/plain": [
       "<Figure size 640x480 with 1 Axes>"
      ]
     },
     "metadata": {},
     "output_type": "display_data"
    }
   ],
   "source": [
    "import matplotlib.pyplot as plt\n",
    "import seaborn as sns\n",
    "sns.scatterplot(gd_iterations_df.sample(100), x = 'iteration', y = 'cost')\n",
    "plt.plot()"
   ]
  }
 ],
 "metadata": {
  "kernelspec": {
   "display_name": "Python 3",
   "language": "python",
   "name": "python3"
  },
  "language_info": {
   "codemirror_mode": {
    "name": "ipython",
    "version": 3
   },
   "file_extension": ".py",
   "mimetype": "text/x-python",
   "name": "python",
   "nbconvert_exporter": "python",
   "pygments_lexer": "ipython3",
   "version": "3.11.0"
  },
  "orig_nbformat": 4,
  "vscode": {
   "interpreter": {
    "hash": "ebfc0a8d552866b0d59eba665220a57de3bc06f3ac643b8bef38dd8f66781fdd"
   }
  }
 },
 "nbformat": 4,
 "nbformat_minor": 2
}
