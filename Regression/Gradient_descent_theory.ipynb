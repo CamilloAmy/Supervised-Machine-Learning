{
 "cells": [
  {
   "cell_type": "code",
   "execution_count": null,
   "id": "d28818b4",
   "metadata": {},
   "outputs": [],
   "source": [
    "import numpy as np\n",
    "import matplotlib.pyplot as plt\n",
    "from mpl_toolkits.mplot3d import Axes3D\n",
    "from matplotlib.animation import FuncAnimation\n",
    "\n",
    "def f(x, y):\n",
    "    return x**2 + y**2\n",
    "\n",
    "def grad_f(x, y):\n",
    "    return 2*x, 2*y\n",
    "\n",
    "start_x, start_y = 3.5, 3.5\n",
    "lr = 0.1\n",
    "steps = 50\n",
    "\n",
    "x_vals, y_vals, z_vals = [], [], []\n",
    "x, y = start_x, start_y\n",
    "\n",
    "for _ in range(steps):\n",
    "    x_vals.append(x)\n",
    "    y_vals.append(y)\n",
    "    z_vals.append(f(x, y))\n",
    "    dx, dy = grad_f(x, y)\n",
    "    x -= lr * dx\n",
    "    y -= lr * dy\n",
    "\n",
    "X = np.linspace(-4, 4, 100)\n",
    "Y = np.linspace(-4, 4, 100)\n",
    "X, Y = np.meshgrid(X, Y)\n",
    "Z = f(X, Y)\n",
    "\n",
    "fig = plt.figure(figsize=(10, 8))\n",
    "ax = fig.add_subplot(111, projection='3d')\n",
    "ax.plot_surface(X, Y, Z, cmap='viridis', alpha=0.6)\n",
    "ax.set_xlabel('X')\n",
    "ax.set_ylabel('Y')\n",
    "ax.set_zlabel('f(x, y)')\n",
    "ax.set_title('Gradient Descent in 3D')\n",
    "\n",
    "\n",
    "point, = ax.plot([x_vals[0]], [y_vals[0]], [z_vals[0]], 'ro', markersize=8)\n",
    "path, = ax.plot([], [], [], 'r-', linewidth=2)\n",
    "\n",
    "\n",
    "def update(i):\n",
    "    point.set_data([x_vals[i]], [y_vals[i]])\n",
    "    point.set_3d_properties([z_vals[i]])\n",
    "    path.set_data(x_vals[:i+1], y_vals[:i+1])\n",
    "    path.set_3d_properties(z_vals[:i+1])\n",
    "    return point, path\n",
    "\n",
    "ani = FuncAnimation(fig, update, frames=len(x_vals), interval=300, blit=False)\n",
    "\n"
   ]
  },
  {
   "cell_type": "code",
   "execution_count": null,
   "id": "6477f9a6",
   "metadata": {},
   "outputs": [],
   "source": [
    "from matplotlib.animation import FuncAnimation, PillowWriter\n",
    "\n",
    "\n",
    "ani.save('../data/gradient_descent.gif', writer=PillowWriter(fps=5))"
   ]
  },
  {
   "cell_type": "code",
   "execution_count": null,
   "id": "bf331f12",
   "metadata": {},
   "outputs": [],
   "source": [
    "fig, axes = plt.subplots(1, 5, figsize=(20, 4))\n",
    "checkpoints = [0, 5, 10, 15, 25]\n",
    "for i, step in enumerate(checkpoints):\n",
    "    ax = axes[i]\n",
    "    ax.contour(X, Y, Z, levels=30, cmap='viridis')\n",
    "    ax.plot(x_vals[:step+1], y_vals[:step+1], 'ro-', linewidth=2)\n",
    "    ax.scatter([0], [0], color='blue', label='Minimum')\n",
    "    ax.set_title(f'Step {step}')\n",
    "    ax.set_xlabel('x')\n",
    "    ax.set_ylabel('y')\n",
    "    ax.grid(True)\n",
    "    ax.set_aspect('equal')\n",
    "\n",
    "plt.tight_layout()\n",
    "plt.show()\n"
   ]
  }
 ],
 "metadata": {
  "kernelspec": {
   "display_name": ".venv",
   "language": "python",
   "name": "python3"
  },
  "language_info": {
   "codemirror_mode": {
    "name": "ipython",
    "version": 3
   },
   "file_extension": ".py",
   "mimetype": "text/x-python",
   "name": "python",
   "nbconvert_exporter": "python",
   "pygments_lexer": "ipython3",
   "version": "3.12.2"
  }
 },
 "nbformat": 4,
 "nbformat_minor": 5
}
