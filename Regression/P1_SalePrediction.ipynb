{
 "cells": [
  {
   "attachments": {},
   "cell_type": "markdown",
   "metadata": {},
   "source": [
    "Project 1 : Sale Amount Prediction based on the advertisement cost. "
   ]
  },
  {
   "attachments": {},
   "cell_type": "markdown",
   "metadata": {},
   "source": [
    "We first import the necessary modules and read the data from the computer."
   ]
  },
  {
   "cell_type": "code",
   "execution_count": null,
   "metadata": {},
   "outputs": [],
   "source": [
    "import pandas as pd\n",
    "from sklearn.model_selection import train_test_split\n",
    "\n",
    "df=pd.read_csv('..\\\\data\\Advertising.csv')\n",
    "\n",
    "X=df[['TV', 'radio', 'newspaper']].values\n",
    "y=df['sales'].values\n",
    "df.info()"
   ]
  },
  {
   "attachments": {},
   "cell_type": "markdown",
   "metadata": {},
   "source": [
    "The data is then split into the training data set and testing data set. Two-third of the data is used for training and one-third is kept for testing."
   ]
  },
  {
   "cell_type": "code",
   "execution_count": null,
   "metadata": {},
   "outputs": [],
   "source": [
    "from sklearn.model_selection import train_test_split\n",
    "\n",
    "X_train, X_test, y_train, y_test = train_test_split(X,y, \n",
    "                                    test_size = 0.33, random_state=1)"
   ]
  },
  {
   "attachments": {},
   "cell_type": "markdown",
   "metadata": {},
   "source": [
    "The grid search method is used to find the hyper parameter $k$, order of the polynomial regression model. Pipeline function is used to avoid the potential data leakage issue. "
   ]
  },
  {
   "cell_type": "code",
   "execution_count": null,
   "metadata": {},
   "outputs": [],
   "source": [
    "from sklearn.model_selection import GridSearchCV\n",
    "from sklearn.preprocessing import StandardScaler\n",
    "from sklearn.preprocessing import PolynomialFeatures\n",
    "from sklearn.linear_model import LinearRegression\n",
    "from sklearn.pipeline import Pipeline\n",
    "\n",
    "\n",
    "steps = [('scaler', StandardScaler()), \n",
    "         ('poly', PolynomialFeatures(degree = 2, \n",
    "                                     include_bias=False)),\n",
    "         ('liReg', LinearRegression())]\n",
    "parameters = {\"poly__degree\":[2, 3, 4, 5, 7, 9]}\n",
    "pipeline = Pipeline(steps)\n",
    "\n",
    "\n",
    "poly_grid = GridSearchCV(pipeline, parameters, \n",
    "                         cv=5, \n",
    "                         scoring='neg_mean_squared_error',\n",
    "                         verbose= True) \n",
    "\n",
    "poly_grid.fit(X_train, y_train)\n",
    "print ('best order is :', poly_grid.best_params_)\n"
   ]
  },
  {
   "attachments": {},
   "cell_type": "markdown",
   "metadata": {},
   "source": [
    "The best model is used to evaluate the performance on both the training and testing data set."
   ]
  },
  {
   "cell_type": "code",
   "execution_count": null,
   "metadata": {},
   "outputs": [],
   "source": [
    "from sklearn.metrics import mean_absolute_error\n",
    "from sklearn.metrics import mean_squared_error\n",
    "from sklearn.metrics import r2_score\n",
    "\n",
    "# Evaluation on the Tesing data set\n",
    "ytest_pred = poly_grid.predict(X_test)\n",
    "mae = mean_absolute_error(y_test, ytest_pred)\n",
    "mse = mean_squared_error(y_test, ytest_pred, \n",
    "                        squared= True)\n",
    "r2 = r2_score(y_test, ytest_pred)\n",
    "\n",
    "\n",
    "#Evaluation on the Training data set\n",
    "ytr_pred = poly_grid.predict(X_train)\n",
    "maeT = mean_absolute_error(y_train, ytr_pred)\n",
    "mseT = mean_squared_error(y_train, ytr_pred, \n",
    "                        squared= True)\n",
    "r2T = r2_score(y_train, ytr_pred)\n",
    "\n",
    "#Keep all results in the tabular form\n",
    "result = pd.DataFrame({'mae': [maeT, mae], \n",
    "                        'mse': [mseT, mse], \n",
    "                        'r2': [r2T, r2]})\n",
    "result.index = ['Training', 'Testing']\n",
    "result"
   ]
  }
 ],
 "metadata": {
  "kernelspec": {
   "display_name": "Python 3",
   "language": "python",
   "name": "python3"
  },
  "language_info": {
   "codemirror_mode": {
    "name": "ipython",
    "version": 3
   },
   "file_extension": ".py",
   "mimetype": "text/x-python",
   "name": "python",
   "nbconvert_exporter": "python",
   "pygments_lexer": "ipython3",
   "version": "3.11.0"
  },
  "orig_nbformat": 4,
  "vscode": {
   "interpreter": {
    "hash": "ebfc0a8d552866b0d59eba665220a57de3bc06f3ac643b8bef38dd8f66781fdd"
   }
  }
 },
 "nbformat": 4,
 "nbformat_minor": 2
}
